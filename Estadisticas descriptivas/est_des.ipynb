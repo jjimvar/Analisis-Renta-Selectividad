{
 "cells": [
  {
   "cell_type": "code",
   "execution_count": 55,
   "metadata": {},
   "outputs": [],
   "source": [
    "import pandas as pd\n",
    "from scipy.stats import ttest_ind\n",
    "\n",
    "#Importamos datos\n",
    "dat=pd.read_excel(\"C:/Users/jjime/OneDrive/Escritorio/4to GANE/Beca/Data/Data IES.xlsx\", sheet_name=\"Reg\")\n",
    "\n",
    "#Creamos indice con los institutos\n",
    "index=dat[\"Centro\"]+\"-\"+dat[\"Localidad\"]\n",
    "dat=dat.set_index(index)\n",
    "dat=dat.drop([\"Localidad\", \"Centro\"], axis=1)\n",
    "\n",
    "#Tabla1\n",
    "dat[\"GAP\"]=dat[\"B\"]-dat[\"S\"]\n",
    "tabla1=dat[[\"S\", \"B\", \"GAP\"]].describe()\n",
    "\n",
    "#Tabla2\n",
    "tabla2=dat[[\"R\", \"M\"]].describe()\n",
    "\n",
    "#Tabla3: Resultados por centros\n",
    "tabla31 = dat[dat[\"Pub\"] == 1][[\"S\", \"B\", \"GAP\", \"R\", \"M\"]].describe()\n",
    "tabla32 = dat[dat[\"Pub\"] == 0][[\"S\", \"B\", \"GAP\", \"R\", \"M\"]].describe()\n",
    "tabla3=pd.concat([tabla31, tabla32])\n",
    "\n",
    "#Tabla4: contraste\n",
    "##Media\n",
    "pub=dat[dat[\"Pub\"]==1].mean()\n",
    "med1=pd.DataFrame(pub).transpose()\n",
    "priv=dat[dat[\"Pub\"]==0].mean()\n",
    "med0=pd.DataFrame(priv).transpose()\n",
    "med=pd.concat([med1,med0])\n",
    "med=med.set_index(med[\"Pub\"])\n",
    "med=med.drop(columns=[\"Pub\"])\n",
    "\n",
    "##P-valores\n",
    "Variables=[\"S\", \"B\", \"GAP\", \"R\", \"M\"]\n",
    "for x in Variables:\n",
    "    result=pd.DataFrame(ttest_ind(dat[dat[\"Pub\"] == 1][Variables], dat[dat[\"Pub\"] == 0][Variables], equal_var=False))\n",
    "    result.columns=Variables\n",
    "\n",
    "tabla4 = pd.concat([med[[\"S\", \"B\", \"GAP\", \"R\", \"M\"]],result])\n",
    "tabla4.index=[\"Centros Públicos\", \"Centros Privados\", \"T-test\", \"P-valor\"]\n",
    "\n",
    "#Exportamos los resultados\n",
    "with pd.ExcelWriter(\"C:/Users/jjime/OneDrive/Escritorio/4to GANE/Beca/Data/Est_Des.xlsx\") as writer:\n",
    "    tabla1.to_excel(writer, sheet_name=\"Calificaciones\")\n",
    "    tabla2.to_excel(writer, sheet_name=\"Variables\")\n",
    "    tabla3.to_excel(writer, sheet_name=\"Publico-Privado\")\n",
    "    tabla4.to_excel(writer, sheet_name=\"Contrastes\")\n"
   ]
  }
 ],
 "metadata": {
  "kernelspec": {
   "display_name": "Python 3",
   "language": "python",
   "name": "python3"
  },
  "language_info": {
   "codemirror_mode": {
    "name": "ipython",
    "version": 3
   },
   "file_extension": ".py",
   "mimetype": "text/x-python",
   "name": "python",
   "nbconvert_exporter": "python",
   "pygments_lexer": "ipython3",
   "version": "3.11.9"
  }
 },
 "nbformat": 4,
 "nbformat_minor": 2
}
