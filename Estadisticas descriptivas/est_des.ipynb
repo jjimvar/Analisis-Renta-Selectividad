{
 "cells": [
  {
   "cell_type": "code",
   "execution_count": null,
   "metadata": {},
   "outputs": [],
   "source": [
    "import pandas as pd\n",
    "\n",
    "#Importamos datos\n",
    "dat=pd.read_excel(\"C:/Users/jjime/OneDrive/Escritorio/4to GANE/Beca/Data/Data IES.xlsx\", sheet_name=\"Reg\")\n",
    "\n",
    "#Creamos indice con los institutos\n",
    "index=dat[\"Centro\"]+\"-\"+dat[\"Localidad\"]\n",
    "dat=dat.set_index(index)\n",
    "dat=dat.drop([\"Localidad\", \"Centro\"], axis=1)\n",
    "\n",
    "#Creamos variables con los esadísticos descrptivos de cada regresor\n",
    "resul1=dat[[\"S\", \"B\", \"R\", \"M\"]].describe()\n",
    "\n",
    "#Resultados por centros\n",
    "resul2 = dat[dat[\"Pub\"] == 1][[\"S\", \"B\", \"R\", \"M\"]].describe()\n",
    "resul3 = dat[dat[\"Pub\"] == 0][[\"S\", \"B\", \"R\", \"M\"]].describe()\n",
    "\n",
    "\n",
    "#Exportamos los resultados\n",
    "with pd.ExcelWriter(\"C:/Users/jjime/OneDrive/Escritorio/4to GANE/Beca/Data/Est_Des.xlsx\") as writer:\n",
    "    resul1.to_excel(writer, sheet_name=\"Variables\")\n",
    "    resul2.to_excel(writer, sheet_name=\"Publico\")\n",
    "    resul3.to_excel(writer, sheet_name=\"Privado\")"
   ]
  }
 ],
 "metadata": {
  "kernelspec": {
   "display_name": "Python 3",
   "language": "python",
   "name": "python3"
  },
  "language_info": {
   "codemirror_mode": {
    "name": "ipython",
    "version": 3
   },
   "file_extension": ".py",
   "mimetype": "text/x-python",
   "name": "python",
   "nbconvert_exporter": "python",
   "pygments_lexer": "ipython3",
   "version": "3.11.9"
  }
 },
 "nbformat": 4,
 "nbformat_minor": 2
}
